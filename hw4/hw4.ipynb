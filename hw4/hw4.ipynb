{
 "cells": [
  {
   "cell_type": "code",
   "execution_count": 6,
   "id": "207ef68c",
   "metadata": {},
   "outputs": [],
   "source": [
    "import pysam\n",
    "from prettytable import PrettyTable, ALL\n",
    "from Bio import SeqIO"
   ]
  },
  {
   "cell_type": "markdown",
   "id": "89fcd4d4",
   "metadata": {},
   "source": [
    "# test data analysis"
   ]
  },
  {
   "cell_type": "code",
   "execution_count": 17,
   "id": "2010338f",
   "metadata": {},
   "outputs": [],
   "source": [
    "test_corrected = pysam.AlignmentFile(\"data/test_aln/test_corrected_sorted.bam\", \"rb\")\n",
    "test_uncorrected = pysam.AlignmentFile(\"data/test_aln/test_uncorrected_sorted.bam\", \"rb\")"
   ]
  },
  {
   "cell_type": "code",
   "execution_count": 18,
   "id": "2c4da437",
   "metadata": {},
   "outputs": [],
   "source": [
    "reference = next(SeqIO.parse(\"data/MG1655-K12.first10K.fasta\", \"fasta\")).seq"
   ]
  },
  {
   "cell_type": "code",
   "execution_count": 19,
   "id": "3cb74398",
   "metadata": {},
   "outputs": [],
   "source": [
    "test_cor_pile = test_corrected.pileup('gi|49175990|ref|NC_000913.2|')\n",
    "test_uncor_pile = test_uncorrected.pileup('gi|49175990|ref|NC_000913.2|')"
   ]
  },
  {
   "cell_type": "code",
   "execution_count": 20,
   "id": "35426c2c",
   "metadata": {},
   "outputs": [],
   "source": [
    "table = {'Error in raw data' : {\n",
    "            'Error in corrected data' : 0, \n",
    "            'Correct base in corrected data' : 0,\n",
    "            'Base is absent in corrected data' : 0}, \n",
    "        'Correct base in raw data' : {\n",
    "            'Error in corrected data' : 0, \n",
    "            'Correct base in corrected data' : 0,\n",
    "            'Base is absent in corrected data' : 0 }\n",
    "    }"
   ]
  },
  {
   "cell_type": "code",
   "execution_count": 21,
   "id": "a65be0ac",
   "metadata": {},
   "outputs": [],
   "source": [
    "for uncor, cor in zip(test_uncor_pile, test_cor_pile):\n",
    "    uncor_pos = uncor.reference_pos\n",
    "    cor_pos = cor.reference_pos\n",
    "    if uncor_pos != cor_pos:\n",
    "        continue\n",
    "    ref = reference[cor_pos].upper()\n",
    "    \n",
    "    uncorrs = dict(zip(uncor.get_query_names(), uncor.get_query_sequences()))\n",
    "    corrs = dict(zip(cor.get_query_names(), cor.get_query_sequences()))\n",
    "    \n",
    "    for k, v in uncorrs.items():\n",
    "        if v.upper() == ref:\n",
    "            uncorr_state = 'Correct base in raw data'\n",
    "        else:\n",
    "            uncorr_state = 'Error in raw data'\n",
    "        if not k in corrs:\n",
    "            corr_state = 'Base is absent in corrected data'\n",
    "        else:\n",
    "            cor_v = corrs[k]\n",
    "            if cor_v.upper() == 'N':\n",
    "                corr_state = 'Base is absent in corrected data'\n",
    "            elif cor_v.upper() != ref:\n",
    "                corr_state = 'Error in corrected data'\n",
    "            else:\n",
    "                corr_state = 'Correct base in corrected data'\n",
    "        table[uncorr_state][corr_state] += 1"
   ]
  },
  {
   "cell_type": "code",
   "execution_count": 22,
   "id": "c1961b96",
   "metadata": {},
   "outputs": [],
   "source": [
    "pretty_table = PrettyTable(['', 'Error in corrected data', 'Correct base in corrected data', \n",
    "                            'Base is absent in corrected data'])\n",
    "pretty_table.hrules=ALL\n",
    "pretty_table.add_row(['Error in raw data', table['Error in raw data']['Error in corrected data'], \n",
    "                      table['Error in raw data']['Correct base in corrected data'],\n",
    "                      table['Error in raw data']['Base is absent in corrected data']])\n",
    "\n",
    "pretty_table.add_row(['Correct in raw data', table['Correct base in raw data']['Error in corrected data'],\n",
    "                       table['Correct base in raw data']['Correct base in corrected data'],\n",
    "                       table['Correct base in raw data']['Base is absent in corrected data']])"
   ]
  },
  {
   "cell_type": "code",
   "execution_count": 23,
   "id": "b3b304da",
   "metadata": {},
   "outputs": [
    {
     "name": "stdout",
     "output_type": "stream",
     "text": [
      "+---------------------+-------------------------+--------------------------------+----------------------------------+\n",
      "|                     | Error in corrected data | Correct base in corrected data | Base is absent in corrected data |\n",
      "+---------------------+-------------------------+--------------------------------+----------------------------------+\n",
      "|  Error in raw data  |           1561          |              6175              |               706                |\n",
      "+---------------------+-------------------------+--------------------------------+----------------------------------+\n",
      "| Correct in raw data |            11           |            5168797             |              58838               |\n",
      "+---------------------+-------------------------+--------------------------------+----------------------------------+\n"
     ]
    }
   ],
   "source": [
    "print(pretty_table)"
   ]
  },
  {
   "cell_type": "markdown",
   "id": "1cf761b7",
   "metadata": {},
   "source": [
    "# first 400K data analysis"
   ]
  },
  {
   "cell_type": "code",
   "execution_count": 25,
   "id": "508610b8",
   "metadata": {},
   "outputs": [],
   "source": [
    "real_corrected = pysam.AlignmentFile(\"data/real_aln/real_corrected_sorted.bam\", \"rb\")\n",
    "real_uncorrected = pysam.AlignmentFile(\"data/real_aln/real_uncorrected_sorted.bam\", \"rb\")"
   ]
  },
  {
   "cell_type": "code",
   "execution_count": 26,
   "id": "a87b01bb",
   "metadata": {},
   "outputs": [],
   "source": [
    "reference = next(SeqIO.parse(\"data/MG1655-K12.first400K.fasta\", \"fasta\")).seq"
   ]
  },
  {
   "cell_type": "code",
   "execution_count": 27,
   "id": "663bbe70",
   "metadata": {},
   "outputs": [],
   "source": [
    "real_cor_pile = real_corrected.pileup('gi|49175990|ref|NC_000913.2|')\n",
    "real_uncor_pile = real_uncorrected.pileup('gi|49175990|ref|NC_000913.2|')"
   ]
  },
  {
   "cell_type": "code",
   "execution_count": 30,
   "id": "cb637ca0",
   "metadata": {},
   "outputs": [],
   "source": [
    "table = {'Error in raw data' : {\n",
    "            'Error in corrected data' : 0, \n",
    "            'Correct base in corrected data' : 0,\n",
    "            'Base is absent in corrected data' : 0}, \n",
    "        'Correct base in raw data' : {\n",
    "            'Error in corrected data' : 0, \n",
    "            'Correct base in corrected data' : 0,\n",
    "            'Base is absent in corrected data' : 0 }\n",
    "    }"
   ]
  },
  {
   "cell_type": "code",
   "execution_count": 31,
   "id": "8b7fd8b7",
   "metadata": {},
   "outputs": [],
   "source": [
    "for uncor, cor in zip(real_uncor_pile, real_cor_pile):\n",
    "    uncor_pos = uncor.reference_pos\n",
    "    cor_pos = cor.reference_pos\n",
    "    if uncor_pos != cor_pos:\n",
    "        continue\n",
    "    ref = reference[cor_pos].upper()\n",
    "    \n",
    "    uncorrs = dict(zip(uncor.get_query_names(), uncor.get_query_sequences()))\n",
    "    corrs = dict(zip(cor.get_query_names(), cor.get_query_sequences()))\n",
    "    \n",
    "    for k, v in uncorrs.items():\n",
    "        if v.upper() == ref:\n",
    "            uncorr_state = 'Correct base in raw data'\n",
    "        else:\n",
    "            uncorr_state = 'Error in raw data'\n",
    "        if not k in corrs:\n",
    "            corr_state = 'Base is absent in corrected data'\n",
    "        else:\n",
    "            cor_v = corrs[k]\n",
    "            if cor_v.upper() == 'N':\n",
    "                corr_state = 'Base is absent in corrected data'\n",
    "            elif cor_v.upper() != ref:\n",
    "                corr_state = 'Error in corrected data'\n",
    "            else:\n",
    "                corr_state = 'Correct base in corrected data'\n",
    "        table[uncorr_state][corr_state] += 1"
   ]
  },
  {
   "cell_type": "code",
   "execution_count": 32,
   "id": "22b1d47f",
   "metadata": {},
   "outputs": [],
   "source": [
    "pretty_table = PrettyTable(['', 'Error in corrected data', 'Correct base in corrected data', \n",
    "                            'Base is absent in corrected data'])\n",
    "pretty_table.hrules=ALL\n",
    "pretty_table.add_row(['Error in raw data', table['Error in raw data']['Error in corrected data'], \n",
    "                      table['Error in raw data']['Correct base in corrected data'],\n",
    "                      table['Error in raw data']['Base is absent in corrected data']])\n",
    "\n",
    "pretty_table.add_row(['Correct in raw data', table['Correct base in raw data']['Error in corrected data'],\n",
    "                       table['Correct base in raw data']['Correct base in corrected data'],\n",
    "                       table['Correct base in raw data']['Base is absent in corrected data']])"
   ]
  },
  {
   "cell_type": "code",
   "execution_count": 33,
   "id": "2cc0c57a",
   "metadata": {},
   "outputs": [
    {
     "name": "stdout",
     "output_type": "stream",
     "text": [
      "+---------------------+-------------------------+--------------------------------+----------------------------------+\n",
      "|                     | Error in corrected data | Correct base in corrected data | Base is absent in corrected data |\n",
      "+---------------------+-------------------------+--------------------------------+----------------------------------+\n",
      "|  Error in raw data  |          146045         |             267494             |              35743               |\n",
      "+---------------------+-------------------------+--------------------------------+----------------------------------+\n",
      "| Correct in raw data |           331           |           244513615            |             4042922              |\n",
      "+---------------------+-------------------------+--------------------------------+----------------------------------+\n"
     ]
    }
   ],
   "source": [
    "print(pretty_table)"
   ]
  },
  {
   "cell_type": "code",
   "execution_count": null,
   "id": "0fa55565",
   "metadata": {},
   "outputs": [],
   "source": []
  }
 ],
 "metadata": {
  "kernelspec": {
   "display_name": "Python 3 (ipykernel)",
   "language": "python",
   "name": "python3"
  },
  "language_info": {
   "codemirror_mode": {
    "name": "ipython",
    "version": 3
   },
   "file_extension": ".py",
   "mimetype": "text/x-python",
   "name": "python",
   "nbconvert_exporter": "python",
   "pygments_lexer": "ipython3",
   "version": "3.10.11"
  }
 },
 "nbformat": 4,
 "nbformat_minor": 5
}
