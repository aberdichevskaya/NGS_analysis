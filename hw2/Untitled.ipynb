{
 "cells": [
  {
   "cell_type": "code",
   "execution_count": 1,
   "id": "5c3289aa",
   "metadata": {},
   "outputs": [],
   "source": [
    "from Bio import SeqIO\n",
    "from collections import defaultdict"
   ]
  },
  {
   "cell_type": "code",
   "execution_count": 2,
   "id": "6c8eb7fd",
   "metadata": {},
   "outputs": [],
   "source": [
    "DATA_PATH = \"data/5/\""
   ]
  },
  {
   "cell_type": "code",
   "execution_count": null,
   "id": "cfdd7796",
   "metadata": {},
   "outputs": [],
   "source": []
  },
  {
   "cell_type": "code",
   "execution_count": null,
   "id": "7dc90734",
   "metadata": {},
   "outputs": [],
   "source": [
    "class Graph:\n",
    "    def __init__(self):\n",
    "        adjacency_list = defaultdict(list)\n",
    "        edges = defaultdict(list)\n",
    "    \n",
    "    def add_sequence(self, sequence):\n",
    "        start = sequence[0:-1]\n",
    "        end = sequence[1:]\n",
    "        adjacency_list[start].append(end)\n",
    "        edges[start].append(sequence)\n",
    "        "
   ]
  },
  {
   "cell_type": "code",
   "execution_count": null,
   "id": "1b17d583",
   "metadata": {},
   "outputs": [],
   "source": [
    "class DeBrujinGraph:\n",
    "    def __init__(self, k, filepath, paired_reads=False):\n",
    "        self.k = k\n",
    "        self.failpath = filepath\n",
    "        self.paired_reads = paired_reads\n",
    "        graph = Graph()\n",
    "        \n",
    "    def __get_kmears(self, read):\n",
    "        kmears = []\n",
    "        for i in range(len(read) - self.k):\n",
    "            kmears.append(read[i:i+k])\n",
    "        return kmears\n",
    "    \n",
    "    def build_primary_graph(self):\n",
    "        \n",
    "    \n",
    "    def concentrate_graph(self):\n",
    "        pass\n",
    "    \n",
    "    def tip_clipper(self):\n",
    "        pass\n",
    "    \n",
    "    def edge_filter(self, cov_treshold, len_treshold):\n",
    "        pass\n",
    "    \n",
    "    def simplify_graph(self, simplification_algo, cov_treshold, len_treshold):\n",
    "        if simplification_algo == 'tip_clipper':\n",
    "            tip_clipper(self)\n",
    "        elif simplification_algo == 'edge_filter':\n",
    "            edge_filter(self, cov_treshold, len_treshold)\n",
    "        else:\n",
    "            raise NameError(\"{simplification_algo} simplification algorithm is not defined\")\n",
    "        \n",
    "    def build_graph(self, simplification_algo='tip_clipper', cov_treshold=10, len_treshold=10):\n",
    "        build_primary_graph(self)\n",
    "        concentrate_graph(self)\n",
    "        simplify_graph(self, simplification_algo, cov_treshold, len_treshold)\n",
    "        \n",
    "        return self.debruijn_graph"
   ]
  }
 ],
 "metadata": {
  "kernelspec": {
   "display_name": "Python 3",
   "language": "python",
   "name": "python3"
  },
  "language_info": {
   "codemirror_mode": {
    "name": "ipython",
    "version": 3
   },
   "file_extension": ".py",
   "mimetype": "text/x-python",
   "name": "python",
   "nbconvert_exporter": "python",
   "pygments_lexer": "ipython3",
   "version": "3.6.13"
  }
 },
 "nbformat": 4,
 "nbformat_minor": 5
}
